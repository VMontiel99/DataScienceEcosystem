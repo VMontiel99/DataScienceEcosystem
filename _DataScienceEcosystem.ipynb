{
 "cells": [
  {
   "cell_type": "markdown",
   "id": "708e6f59-7a33-4b44-83be-10ce1d54f979",
   "metadata": {},
   "source": [
    "<h1>Data Science Tools and Ecosystem</h1>"
   ]
  },
  {
   "cell_type": "markdown",
   "id": "51447776-c516-4cae-b612-8b4bbc946a48",
   "metadata": {},
   "source": [
    "In this notebook, Data Science Tools and Ecosystem are summarized"
   ]
  },
  {
   "cell_type": "markdown",
   "id": "d40d67ec-5fc4-445f-8c60-8cfc14eeaca1",
   "metadata": {},
   "source": [
    "<i>objectives:</i>\n",
    "\n",
    "<ul>\n",
    "    <li>Data Science languages\n",
    "    <li>Data Science Libraries\n",
    "    <li>Data Science Tools\n",
    "    <li>Evaluation of Arithmetic Expressions"
   ]
  },
  {
   "cell_type": "markdown",
   "id": "6973ffc6-348f-481a-ad1a-247a302b2495",
   "metadata": {},
   "source": [
    "In this, my first notebook; I´m going to summarized some Data Science tools and Ecosystems."
   ]
  },
  {
   "cell_type": "markdown",
   "id": "53a6947f-b418-44d3-b8e3-14bdb139db59",
   "metadata": {},
   "source": [
    "Some of the most popular data science languages are:\n",
    "    <ol>\n",
    "        <li>Python\n",
    "        <li>R\n",
    "        <li>SQL\n",
    "        <li>Java\n",
    "        <li>Julia\n",
    "    <ol>"
   ]
  },
  {
   "cell_type": "markdown",
   "id": "887a4e76-ba9b-409d-ac47-083a05a7d5bb",
   "metadata": {},
   "source": [
    "Now; some of the most used libraries for Data Science are:\n",
    "<ol>\n",
    "    <li>Pandas\n",
    "    <li>NumPy\n",
    "    <li>TensorFlow\n",
    "    <li>MatPlotLib\n",
    "    <li>Seaborn\n",
    "<ol>"
   ]
  },
  {
   "cell_type": "markdown",
   "id": "e306f6f5-433e-413f-a344-a220459342b0",
   "metadata": {},
   "source": [
    "|Data Science Tools|\n",
    "|----|\n",
    "|Jupyter Notebook|\n",
    "|Visual Studio Code|\n",
    "|R Studio|\n"
   ]
  },
  {
   "cell_type": "markdown",
   "id": "c6704866-351f-43da-b743-54cc0977e644",
   "metadata": {},
   "source": [
    "<h3>Now we are gonna see some examples of evaluating arithmetic expressions in Python<h3>\n",
    "    "
   ]
  },
  {
   "cell_type": "code",
   "execution_count": 34,
   "id": "9774aa38-5580-4f51-a7b4-b2722366b6b0",
   "metadata": {
    "tags": []
   },
   "outputs": [
    {
     "data": {
      "text/plain": [
       "17"
      ]
     },
     "execution_count": 34,
     "metadata": {},
     "output_type": "execute_result"
    }
   ],
   "source": [
    "#We will start with a simple arithmetic expression to multiply and then add intergers.\n",
    "(3*4)+5"
   ]
  },
  {
   "cell_type": "code",
   "execution_count": 36,
   "id": "06facd16-0541-41c9-9d2e-31c34c87fbc7",
   "metadata": {
    "tags": []
   },
   "outputs": [
    {
     "data": {
      "text/plain": [
       "3.3333333333333335"
      ]
     },
     "execution_count": 36,
     "metadata": {},
     "output_type": "execute_result"
    }
   ],
   "source": [
    "#In this cell, I´m going to convert 200 minutes to hours by simply dividing by 60\n",
    "(200)/60"
   ]
  },
  {
   "cell_type": "markdown",
   "id": "5a49f598-66d4-4593-aa77-07a61e1935e2",
   "metadata": {},
   "source": [
    "<h2>Author</h2>\n",
    "\n",
    "Víctor Montiel"
   ]
  }
 ],
 "metadata": {
  "kernelspec": {
   "display_name": "Python 3 (ipykernel)",
   "language": "python",
   "name": "python3"
  },
  "language_info": {
   "codemirror_mode": {
    "name": "ipython",
    "version": 3
   },
   "file_extension": ".py",
   "mimetype": "text/x-python",
   "name": "python",
   "nbconvert_exporter": "python",
   "pygments_lexer": "ipython3",
   "version": "3.11.7"
  }
 },
 "nbformat": 4,
 "nbformat_minor": 5
}
